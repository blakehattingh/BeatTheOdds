{
 "cells": [
  {
   "cell_type": "code",
   "execution_count": 2,
   "metadata": {},
   "outputs": [],
   "source": [
    "import numpy as np\n",
    "import pandas as pd\n",
    "import random as rm\n",
    "from pathlib import Path\n",
    "import matplotlib.pyplot as plt"
   ]
  },
  {
   "cell_type": "code",
   "execution_count": 2,
   "metadata": {},
   "outputs": [],
   "source": [
    "# Set up the data directory path:\n",
    "data_path = Path('C:/Users/campb/OneDrive/Documents/University_ENGSCI/4th Year/ResearchProject/TennisData') \n",
    "get_path = lambda fn: data_path / fn"
   ]
  },
  {
   "cell_type": "code",
   "execution_count": 3,
   "metadata": {},
   "outputs": [],
   "source": [
    "# Create a file to load data in a consistent manner:\n",
    "def load_data(fn):\n",
    "    return pd.read_csv(fn)"
   ]
  },
  {
   "cell_type": "code",
   "execution_count": 4,
   "metadata": {},
   "outputs": [],
   "source": [
    "# Load data:\n",
    "TennisData2021M = load_data(get_path('2021M.csv')) \n",
    "TennisData2020M = load_data(get_path('2020M.csv')) \n",
    "TennisData2019M = load_data(get_path('2019M.csv')) \n",
    "TennisData2018M = load_data(get_path('2018M.csv')) \n",
    "TennisData2017M = load_data(get_path('2017M.csv')) \n",
    "TennisData2021W = load_data(get_path('2021W.csv')) \n",
    "TennisData2020W = load_data(get_path('2020W.csv')) \n",
    "TennisData2019W = load_data(get_path('2019W.csv')) \n",
    "TennisData2018W = load_data(get_path('2018W.csv')) \n",
    "TennisData2017W = load_data(get_path('2017W.csv')) "
   ]
  },
  {
   "cell_type": "code",
   "execution_count": 5,
   "metadata": {},
   "outputs": [],
   "source": [
    "# Merge Men's and Women's data files:\n",
    "TennisDataMens = pd.concat([TennisData2017M, TennisData2018M, TennisData2019M, TennisData2020M, TennisData2021M], axis = 0)\n",
    "TennisDataWomens = pd.concat([TennisData2017W, TennisData2018W, TennisData2019W, TennisData2020W, TennisData2021W], axis = 0)"
   ]
  },
  {
   "cell_type": "code",
   "execution_count": 9,
   "metadata": {},
   "outputs": [
    {
     "name": "stdout",
     "output_type": "stream",
     "text": [
      "MaxW    5\n",
      "MaxL    5\n",
      "dtype: int64\n",
      "MaxW    8\n",
      "MaxL    9\n",
      "dtype: int64\n"
     ]
    }
   ],
   "source": [
    "# Check for missing data:\n",
    "print(TennisDataMens[['MaxW', 'MaxL']].isna().sum())\n",
    "print(TennisDataWomens[['MaxW', 'MaxL']].isna().sum())"
   ]
  },
  {
   "cell_type": "code",
   "execution_count": 61,
   "metadata": {},
   "outputs": [],
   "source": [
    "# Extract all games with max odds: \n",
    "TDM = TennisDataMens.loc[TennisDataMens['MaxL'].isna() == False, :]\n",
    "TDW = TennisDataWomens.loc[TennisDataWomens['MaxL'].isna() == False, :]"
   ]
  },
  {
   "cell_type": "code",
   "execution_count": 67,
   "metadata": {},
   "outputs": [],
   "source": [
    "# Compute the percentage of games where arbitrage was possible:\n",
    "def Arbitrage(data):\n",
    "    ImpliedOdds = (1. / data['MaxW']) + (1. / data['MaxL'])\n",
    "    Count = (ImpliedOdds < 1.).sum()\n",
    "    return ((Count / len(data)) * 100)"
   ]
  },
  {
   "cell_type": "code",
   "execution_count": 68,
   "metadata": {},
   "outputs": [
    {
     "name": "stdout",
     "output_type": "stream",
     "text": [
      "48.49478390461997\n",
      "43.133276377616404\n"
     ]
    }
   ],
   "source": [
    "# Compute the overall percentage of games where arbitrage is possible:\n",
    "PropM = Arbitrage(TDM)\n",
    "PropW = Arbitrage(TDW)\n",
    "\n",
    "print(PropM)\n",
    "print(PropW)"
   ]
  },
  {
   "cell_type": "code",
   "execution_count": 77,
   "metadata": {},
   "outputs": [],
   "source": [
    "# See if there is a trend in the proportion of games where arbitrage is possible:\n",
    "YearsM = [TennisData2017M, TennisData2018M, TennisData2019M, TennisData2020M, TennisData2021M]\n",
    "YearsW = [TennisData2017W, TennisData2018W, TennisData2019W, TennisData2020W, TennisData2021W]\n",
    "PropsM = []\n",
    "PropsW = []\n",
    "\n",
    "for i in YearsM:\n",
    "    PropsM.append(Arbitrage(i))\n",
    "for j in YearsW:\n",
    "    PropsW.append(Arbitrage(j))"
   ]
  },
  {
   "cell_type": "code",
   "execution_count": 84,
   "metadata": {},
   "outputs": [
    {
     "data": {
      "image/png": "[encoded data removed]",
      "text/plain": [
       "<Figure size 432x288 with 1 Axes>"
      ]
     },
     "metadata": {
      "needs_background": "light"
     },
     "output_type": "display_data"
    }
   ],
   "source": [
    "# Create a plot of the proportion vs year:\n",
    "Years = [2017, 2018, 2019, 2020, 2021]\n",
    "plt.plot(Years, PropsM, Years, PropsW, marker = 'o')\n",
    "plt.xticks(Years)\n",
    "plt.xlabel('Year')\n",
    "plt.ylabel('Proportion of Matches')\n",
    "plt.title('Matches where Arbitrage was possible from 2017 - 2021')\n",
    "plt.grid()"
   ]
  },
  {
   "cell_type": "markdown",
   "metadata": {},
   "source": [
    "# Pre-processing of Data:"
   ]
  },
  {
   "cell_type": "markdown",
   "metadata": {},
   "source": [
    "## Features needed:\n",
    "1. "
   ]
  },
  {
   "cell_type": "code",
   "execution_count": 86,
   "metadata": {},
   "outputs": [
    {
     "data": {
      "text/plain": [
       "Index(['ATP', 'Location', 'Tournament', 'Date', 'Series', 'Court', 'Surface',\n",
       "       'Round', 'Best of', 'Winner', 'Loser', 'WRank', 'LRank', 'WPts', 'LPts',\n",
       "       'W1', 'L1', 'W2', 'L2', 'W3', 'L3', 'W4', 'L4', 'W5', 'L5', 'Wsets',\n",
       "       'Lsets', 'Comment', 'B365W', 'B365L', 'EXW', 'EXL', 'LBW', 'LBL', 'PSW',\n",
       "       'PSL', 'MaxW', 'MaxL', 'AvgW', 'AvgL'],\n",
       "      dtype='object')"
      ]
     },
     "execution_count": 86,
     "metadata": {},
     "output_type": "execute_result"
    }
   ],
   "source": [
    "# Look at the features we have:\n",
    "TennisDataMens.columns"
   ]
  },
  {
   "cell_type": "markdown",
   "metadata": {},
   "source": [
    "# Markov Model:"
   ]
  },
  {
   "cell_type": "code",
   "execution_count": 375,
   "metadata": {},
   "outputs": [
    {
     "data": {
      "text/plain": [
       "0.43085778489239424"
      ]
     },
     "execution_count": 375,
     "metadata": {},
     "output_type": "execute_result"
    }
   ],
   "source": [
    "p = 0.6\n",
    "np.random.rand()"
   ]
  },
  {
   "cell_type": "code",
   "execution_count": 343,
   "metadata": {},
   "outputs": [],
   "source": [
    "# Possible States:\n",
    "States = ['0-0', '15-0', '30-0', '40-0', 'GameS', '0-15', '15-15', '30-15', '40-15', '0-30', '15-30', '30-30', '40-30',\n",
    "          '0-40', '15-40', '30-40', 'Deuce', 'GameR']\n",
    "\n",
    "# Transitions:\n",
    "TransitionMatrix = np.zeros((18,18), dtype = float)\n",
    "for i in range(len(TransitionMatrix)):\n",
    "    # Game point for Server: (Every 4th row)\n",
    "    if i % 4 == 3:\n",
    "        TransitionMatrix[i, 16] = p\n",
    "        \n",
    "    # Game point for Returner: (Rows 12:14)\n",
    "    elif ((i > 11) and (i < 15)):\n",
    "        TransitionMatrix[i,i+1] = p\n",
    "        TransitionMatrix[i,17] = 1-p   \n",
    "        \n",
    "    # Duece: (Row 16)\n",
    "    elif i == 15:\n",
    "        TransitionMatrix[i, 11] = p\n",
    "        TransitionMatrix[i, 14] = 1-p\n",
    "        \n",
    "    # Game over:\n",
    "    elif i > 15:\n",
    "        TransitionMatrix[i,i] = 1\n",
    "\n",
    "    # Not Game Point:\n",
    "    else:\n",
    "        TransitionMatrix[i,i+1] = p\n",
    "        TransitionMatrix[i,i+4] = 1-p"
   ]
  },
  {
   "cell_type": "code",
   "execution_count": 376,
   "metadata": {},
   "outputs": [
    {
     "name": "stdout",
     "output_type": "stream",
     "text": [
      "0.6752842105263159\n",
      "0.7102080000000002\n",
      "0.6923076923076923\n"
     ]
    }
   ],
   "source": [
    "# Compute the steady-state distributions using \"infinite sums\":\n",
    "PrServerWins = pow(p, 4) * (15 - 24*p + 10*pow(p, 2)) + 20 * pow(p, 5) * pow((1 - p), 3) / (pow(p, 2) - p + 1)\n",
    "print(PrServerWins)\n",
    "\n",
    "# Without Deuce:\n",
    "PrS = pow(p, 4) * (35 - 84*p + 70*pow(p, 2) - 20*pow(p, 3))\n",
    "print(PrS)\n",
    "\n",
    "# Spiko's way:\n",
    "SpikoPrS = pow(p, 2) / (pow(p, 2) + pow((1-p), 2))\n",
    "print(SpikoPrS)\n"
   ]
  },
  {
   "cell_type": "code",
   "execution_count": 356,
   "metadata": {},
   "outputs": [
    {
     "data": {
      "text/plain": [
       "array([[ 0.00000000e+00],\n",
       "       [ 1.00000000e+00],\n",
       "       [ 8.75000000e-02],\n",
       "       [ 7.65625000e-03],\n",
       "       [ 0.00000000e+00],\n",
       "       [ 3.75000000e-02],\n",
       "       [ 6.56250000e-03],\n",
       "       [ 5.74218750e-04],\n",
       "       [ 0.00000000e+00],\n",
       "       [ 1.40625000e-03],\n",
       "       [ 3.69140625e-04],\n",
       "       [ 3.22998047e-05],\n",
       "       [ 0.00000000e+00],\n",
       "       [ 5.27343750e-05],\n",
       "       [ 1.84570313e-05],\n",
       "       [ 1.61499023e-06],\n",
       "       [ 8.26438354e-04],\n",
       "       [-1.42499904e-01]])"
      ]
     },
     "execution_count": 356,
     "metadata": {},
     "output_type": "execute_result"
    }
   ],
   "source": [
    "# Compute the steady state distributions:\n",
    "P = np.transpose(TransitionMatrix)\n",
    "\n",
    "# Replace last equation:\n",
    "P[1, :] = np.ones((1,len(P)))\n",
    "\n",
    "# Remove variables from RHS vector:\n",
    "for i in range(len(P) - 1):\n",
    "    P[i, i] = P[i, i] - 1\n",
    "\n",
    "RHS = np.zeros((len(P), 1))\n",
    "RHS[-1] =  1\n",
    "\n",
    "# Compute the Steady state:\n",
    "PT = np.linalg.inv(P)\n",
    "SS = np.matmul(PT, RHS)\n",
    "SS"
   ]
  },
  {
   "cell_type": "code",
   "execution_count": 132,
   "metadata": {},
   "outputs": [],
   "source": [
    "def MarkovChainPoint(p):\n",
    "    prob = np.random.rand()\n",
    "    if prob <= p:\n",
    "        Winner = 'Server'\n",
    "    else:\n",
    "        Winner = 'Returner'\n",
    "    return Winner"
   ]
  },
  {
   "cell_type": "code",
   "execution_count": 138,
   "metadata": {},
   "outputs": [],
   "source": [
    "def MarkovChainGame(p):\n",
    "    # Initial state does not matter as transition probabilites are the same:\n",
    "    SPts = 0\n",
    "    RPts = 0\n",
    "    while ((SPts < 4) and (RPts < 4)):\n",
    "        if MarkovChainPoint(p) == 'Server':\n",
    "            # Point was won by server:\n",
    "            SPts = SPts + 1\n",
    "        else:\n",
    "            # Point was won by returner:\n",
    "            RPts = RPts + 1\n",
    "        # Check for 'duece':\n",
    "        if ((SPts == 3) and (RPts == 3)):\n",
    "            count = 0\n",
    "            while (abs(count) != 2):\n",
    "                if MarkovChainPoint(p) == 'Server':\n",
    "                    count = count + 1\n",
    "                else:\n",
    "                    count = count - 1\n",
    "            # Check who won the duece battle:\n",
    "            if count == 2:\n",
    "                # Server won:\n",
    "                SPts = SPts + 1\n",
    "            else:\n",
    "                RPts = RPts + 1\n",
    "    # Find out who won:\n",
    "    if SPts == 4:\n",
    "        Winner = 'Server'\n",
    "    else:\n",
    "        Winner = 'Returner'\n",
    "    # Return the winner:\n",
    "    return (Winner)     "
   ]
  },
  {
   "cell_type": "code",
   "execution_count": 134,
   "metadata": {},
   "outputs": [],
   "source": [
    "def MarkovChainSet(pi, pj, FirstServer, FirstTo):\n",
    "    # Initial state is who is serving first (i or j):\n",
    "    if (FirstServer == 'i'):\n",
    "        Serving = 'i'\n",
    "    else:\n",
    "        Serving = 'j'\n",
    "    iGames = 0\n",
    "    jGames = 0\n",
    "    while ((iGames < 6) and (jGames < 6)):\n",
    "        if Serving == 'i':\n",
    "            # Player A Serving:\n",
    "            if MarkovChainGame(pi) == 'Server':\n",
    "                iGames = iGames + 1\n",
    "            else:\n",
    "                jGames = jGames + 1\n",
    "            \n",
    "            # Change Server:\n",
    "            Serving = 'j'\n",
    "        else:\n",
    "            # Player B Serving:\n",
    "            if MarkovChainGame(pj) == 'Returner':\n",
    "                iGames = iGames + 1\n",
    "            else:\n",
    "                jGames = jGames + 1 \n",
    "            \n",
    "            # Change Server:\n",
    "            Serving = 'i'\n",
    "\n",
    "    # Check for 'tie-breaker':\n",
    "    if (abs(iGames - jGames) < 2):\n",
    "        # Play another game:\n",
    "        if Serving == 'i':\n",
    "            if MarkovChainGame(pi) == 'Server':\n",
    "                iGames = iGames + 1\n",
    "            else:\n",
    "                jGames = jGames + 1\n",
    "            Serving == 'j'\n",
    "        else:\n",
    "            if MarkovChainGame(pj) == 'Returner':\n",
    "                iGames = iGames + 1\n",
    "            else:\n",
    "                jGames = jGames + 1 \n",
    "            Serving == 'i'   \n",
    "            \n",
    "        # Check if a tie-breaker is needed: (set score = 6-6)\n",
    "        if ((iGames == 6) and (jGames == 6)):\n",
    "            # A Tie-Breaker is needed:\n",
    "            Winner = MarkovChainTieBreaker(pi, pj, Serving, FirstTo)\n",
    "            # Update set score:\n",
    "            if Winner == 'i':\n",
    "                iGames = 7\n",
    "                jGames = 5\n",
    "            else:\n",
    "                iGames = 5\n",
    "                jGames = 7\n",
    "            # The server needs to be changed for the next set:\n",
    "            if Serving == 'i':\n",
    "                Serving = 'j'\n",
    "            else:\n",
    "                Serving = 'i'\n",
    "        else:\n",
    "            # Won won the 12th game:\n",
    "            if iGames == 7:\n",
    "                Winner = 'i'\n",
    "            else:\n",
    "                Winner = 'j'\n",
    "    else:\n",
    "        # See who won the set:\n",
    "        if iGames == 6:\n",
    "            Winner = 'i'\n",
    "        else:\n",
    "            Winner = 'j'\n",
    "    \n",
    "    SetScore = [iGames, jGames]\n",
    "    # Return the winner, set score and player to start serving in the next set:\n",
    "    return (Winner, SetScore, Serving)"
   ]
  },
  {
   "cell_type": "code",
   "execution_count": 197,
   "metadata": {},
   "outputs": [],
   "source": [
    "def MarkovChainTieBreaker(pi, pj, Serving, FirstTo):\n",
    "    # FirstTo tells us if it is a 7 or 10 point tie breaker (\"normal\" or \"super\" TB)\n",
    "    # The person that recieved in the 12th game of the set starts serving\n",
    "    # The serving goes as follows: (let A = the person with service initially)\n",
    "    # Player A, Player B, Player B, Player A, Player A, Player B, Player B, Player A, Player A...\n",
    "    iPoints = 0\n",
    "    jPoints = 0\n",
    "    \n",
    "    # Perform first point:\n",
    "    if Serving == 'i':\n",
    "        if MarkovChainPoint(pi) == 'Server':\n",
    "            iPoints = iPoints + 1\n",
    "        else:\n",
    "            jPoints = jPoints + 1\n",
    "        Serving = 'j'\n",
    "    else:\n",
    "        if MarkovChainPoint(pj) == 'Returner':\n",
    "            iPoints = iPoints + 1\n",
    "        else:\n",
    "            jPoints = jPoints + 1 \n",
    "        Serving = 'i'\n",
    "    \n",
    "    Point = 2\n",
    "    while ((iPoints < FirstTo) and (jPoints < FirstTo)):\n",
    "        if Serving == 'i':\n",
    "            if MarkovChainPoint(pi) == 'Server':\n",
    "                iPoints = iPoints + 1\n",
    "            else:\n",
    "                jPoints = jPoints + 1\n",
    "        else:\n",
    "            if MarkovChainPoint(pj) == 'Returner':\n",
    "                iPoints = iPoints + 1\n",
    "            else:\n",
    "                jPoints = jPoints + 1 \n",
    "                \n",
    "        # Change server if required:\n",
    "        if Point % 2 == 1:\n",
    "            if Serving == 'i':\n",
    "                Serving = 'j'\n",
    "            else:\n",
    "                Serving = 'i'\n",
    "        Point = Point + 1\n",
    "\n",
    "    # Check the winner won by at least 2:\n",
    "    if (abs(iPoints - jPoints) < 2):        \n",
    "        while (abs(iPoints - jPoints) < 2):\n",
    "            if Serving == 'i':\n",
    "                if MarkovChainPoint(pi) == 'Server':\n",
    "                    iPoints = iPoints + 1\n",
    "                else:\n",
    "                    jPoints = jPoints + 1\n",
    "            else:\n",
    "                if MarkovChainPoint(pj) == 'Returner':\n",
    "                    iPoints = iPoints + 1\n",
    "                else:\n",
    "                    jPoints = jPoints + 1 \n",
    "                    \n",
    "            # Change server if required:\n",
    "            if Point % 2 == 1:\n",
    "                if Serving == 'i':\n",
    "                    Serving = 'j'\n",
    "                else:\n",
    "                    Serving = 'i'\n",
    "            Point = Point + 1\n",
    "            \n",
    "    # Check who won the tie-breaker:\n",
    "    if (iPoints > jPoints):\n",
    "        Winner = 'i'\n",
    "    else:\n",
    "        Winner = 'j'\n",
    "    return Winner"
   ]
  },
  {
   "cell_type": "code",
   "execution_count": 205,
   "metadata": {},
   "outputs": [],
   "source": [
    "def MarkovChainMatch(pi, pj, FirstServer, FirstToSets, FirstToTB):\n",
    "    # Initial state does not matter as transition probabilites are the same:\n",
    "    iSets = 0\n",
    "    jSets = 0\n",
    "    SetScores = []\n",
    "    while ((iSets < FirstToSets) and (jSets < FirstToSets)):\n",
    "        [Winner, SetScore, Serving] = MarkovChainSet(pi, pj, FirstServer, FirstToTB)\n",
    "        SetScores.append(SetScore)\n",
    "        if Winner == 'i':\n",
    "            iSets = iSets + 1\n",
    "        else:\n",
    "            jSets = jSets + 1\n",
    "        \n",
    "        # Update first server for the next set:\n",
    "        FirstServer = Serving\n",
    "    \n",
    "    # Check who won the Match:\n",
    "    if iSets == FirstToSets:\n",
    "        # Server won:\n",
    "        Winner = 'i'\n",
    "    else:\n",
    "        Winner = 'j'\n",
    "    \n",
    "    # Return the winner and Set Scores\n",
    "    return (Winner, SetScores)"
   ]
  },
  {
   "cell_type": "markdown",
   "metadata": {},
   "source": [
    "## Simulation of Markov Model:"
   ]
  },
  {
   "cell_type": "code",
   "execution_count": 243,
   "metadata": {},
   "outputs": [],
   "source": [
    "# Number of simulations to run:\n",
    "N = 10000\n",
    "\n",
    "# Model parameters:\n",
    "pi = 0.65\n",
    "pj = 0.6\n",
    "FirstServer = 'j'\n",
    "FirstToSets = 3\n",
    "FirstToTB = 12"
   ]
  },
  {
   "cell_type": "code",
   "execution_count": 316,
   "metadata": {},
   "outputs": [],
   "source": [
    "# Simulation:\n",
    "Winners = np.empty(N, dtype = int)\n",
    "NoSets = np.empty(N, dtype = int)\n",
    "NoGames = np.empty(N, dtype = int)\n",
    "AllSetScores = []\n",
    "for i in range(N):      \n",
    "    [Winner, SetScores] = MarkovChainMatch(pi, pj, FirstServer, FirstToSets, FirstToTB)\n",
    "    \n",
    "    # Store winner by representing player 'i' with a 1 and player 'j' with a 0:\n",
    "    if Winner == 'i':\n",
    "        Winners[i] = 1\n",
    "    else:\n",
    "        Winners[i] = 0\n",
    "    \n",
    "    # Store set scores in each row:\n",
    "    NumGames = 0\n",
    "    for j in range(len(SetScores)):\n",
    "        AllSetScores.append('{}-{}'.format(SetScores[j][0], SetScores[j][1]))\n",
    "        \n",
    "        # Compute the number of games in the match:\n",
    "        NumGames = NumGames + sum(SetScores[j])\n",
    "    \n",
    "    # Store number of sets in each match:\n",
    "    NoSets[i] = len(SetScores)\n",
    "    \n",
    "    # Store the number of games in each match:\n",
    "    NoGames[i] = NumGames"
   ]
  },
  {
   "cell_type": "code",
   "execution_count": 318,
   "metadata": {},
   "outputs": [
    {
     "data": {
      "text/plain": [
       "[Text(0.5, 0, 'Number of Games'), Text(0, 0.5, 'Probability')]"
      ]
     },
     "execution_count": 318,
     "metadata": {},
     "output_type": "execute_result"
    },
    {
     "data": {
      "image/png": "[encoded data removed]",
      "text/plain": [
       "<Figure size 1080x345.6 with 3 Axes>"
      ]
     },
     "metadata": {
      "needs_background": "light"
     },
     "output_type": "display_data"
    }
   ],
   "source": [
    "# Create axis for plots:\n",
    "fig, axes = plt.subplots(1, 3, figsize = [15, 4.8])\n",
    "fig.suptitle('Probability Distributions')\n",
    "\n",
    "# Create probability distribution for the winner and set score:\n",
    "axes[0].hist(AllSetScores, align = 'mid', density = True, color = 'skyblue')\n",
    "axes[0].set(xlabel = 'Set Scores', ylabel = 'Probability')\n",
    "\n",
    "# Create a probability distribution for the number of sets in the match:\n",
    "axes[1].hist(NoSets, align = 'mid', density = True, color = 'skyblue')\n",
    "axes[1].set(xlabel = 'Number of Sets', ylabel = 'Probability')\n",
    "\n",
    "# Create a probability distribution for the number of games in the match:\n",
    "axes[2].hist(NoGames, bins = 'auto', align = 'mid', density = True, color = 'skyblue')\n",
    "axes[2].set(xlabel = 'Number of Games', ylabel = 'Probability')"
   ]
  },
  {
   "cell_type": "code",
   "execution_count": 29,
   "metadata": {},
   "outputs": [
    {
     "data": {
      "image/png": "[encoded data removed]",
      "text/plain": [
       "<Figure size 432x288 with 1 Axes>"
      ]
     },
     "metadata": {
      "needs_background": "light"
     },
     "output_type": "display_data"
    },
    {
     "data": {
      "text/plain": [
       "<Figure size 432x288 with 0 Axes>"
      ]
     },
     "metadata": {},
     "output_type": "display_data"
    }
   ],
   "source": [
    "FirstServer = ['Player 1 Wins', 'Player 2 Wins']\n",
    "Dists = [[0.6121, 0.3879], [0.6399, 0.3601], [0.592, 0.408]]0.63881855 0.36118145\n",
    "# Label Locations:\n",
    "x = np.arange(len(FirstServer))\n",
    "width = 0.25\n",
    "\n",
    "fig, ax = plt.subplots()\n",
    "ax.bar(x-width, Dists[0], width, label = '50-50 Chance')\n",
    "ax.bar(x, Dists[1], width, label = 'Player 1')\n",
    "ax.bar(x+width, Dists[2], width, label = 'Player 2')\n",
    "\n",
    "\n",
    "# Add labels:\n",
    "ax.set_xlabel('Player to Win')\n",
    "ax.set_ylabel('Distributions')\n",
    "ax.set_title('Set Distributions by First Server')\n",
    "ax.set_xticks(x)\n",
    "ax.set_xticklabels(FirstServer)\n",
    "ax.legend()\n",
    "\n",
    "fig.tight_layout()\n",
    "plt.show()\n",
    "\n",
    "# Save figure:\n",
    "plt.savefig('Set Distributions.png')"
   ]
  }
 ],
 "metadata": {
  "kernelspec": {
   "display_name": "Python 3",
   "language": "python",
   "name": "python3"
  },
  "language_info": {
   "codemirror_mode": {
    "name": "ipython",
    "version": 3
   },
   "file_extension": ".py",
   "mimetype": "text/x-python",
   "name": "python",
   "nbconvert_exporter": "python",
   "pygments_lexer": "ipython3",
   "version": "3.8.3"
  }
 },
 "nbformat": 4,
 "nbformat_minor": 4
}
